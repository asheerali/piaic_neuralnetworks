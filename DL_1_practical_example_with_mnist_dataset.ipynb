{
  "nbformat": 4,
  "nbformat_minor": 0,
  "metadata": {
    "colab": {
      "name": "DL_1_practical_example_with_mnist_dataset.ipynb",
      "provenance": [],
      "authorship_tag": "ABX9TyPEdq9SD29SsjQV05isVKc9",
      "include_colab_link": true
    },
    "kernelspec": {
      "name": "python3",
      "display_name": "Python 3"
    },
    "language_info": {
      "name": "python"
    }
  },
  "cells": [
    {
      "cell_type": "markdown",
      "metadata": {
        "id": "view-in-github",
        "colab_type": "text"
      },
      "source": [
        "<a href=\"https://colab.research.google.com/github/asheerali/piaic_neuralnetworks/blob/main/DL_1_practical_example_with_mnist_dataset.ipynb\" target=\"_parent\"><img src=\"https://colab.research.google.com/assets/colab-badge.svg\" alt=\"Open In Colab\"/></a>"
      ]
    },
    {
      "cell_type": "markdown",
      "metadata": {
        "id": "MqT6OBGRAK5z"
      },
      "source": [
        "Importing Libraries"
      ]
    },
    {
      "cell_type": "code",
      "metadata": {
        "id": "OB0P6z8RADBc"
      },
      "source": [
        "from tensorflow.keras.datasets import mnist\n",
        "from tensorflow.keras import models\n",
        "from tensorflow.keras import layers\n",
        "import matplotlib.pyplot as plt\n",
        "import numpy as np"
      ],
      "execution_count": 168,
      "outputs": []
    },
    {
      "cell_type": "code",
      "metadata": {
        "id": "ivTEqFP4Eo53"
      },
      "source": [
        "(train_images,train_labels),(test_images,test_labels)= mnist.load_data()\n"
      ],
      "execution_count": 169,
      "outputs": []
    },
    {
      "cell_type": "code",
      "metadata": {
        "colab": {
          "base_uri": "https://localhost:8080/"
        },
        "id": "J8NUONRWLlbq",
        "outputId": "054c959f-bc00-456a-b526-54edc893e046"
      },
      "source": [
        "test_labels.shape"
      ],
      "execution_count": 172,
      "outputs": [
        {
          "output_type": "execute_result",
          "data": {
            "text/plain": [
              "(10000,)"
            ]
          },
          "metadata": {
            "tags": []
          },
          "execution_count": 172
        }
      ]
    },
    {
      "cell_type": "code",
      "metadata": {
        "colab": {
          "base_uri": "https://localhost:8080/"
        },
        "id": "3kTKWh_HLqMS",
        "outputId": "73d47101-4f5c-4026-ec06-a0546242100f"
      },
      "source": [
        "test_labels[1]"
      ],
      "execution_count": 171,
      "outputs": [
        {
          "output_type": "execute_result",
          "data": {
            "text/plain": [
              "2"
            ]
          },
          "metadata": {
            "tags": []
          },
          "execution_count": 171
        }
      ]
    },
    {
      "cell_type": "markdown",
      "metadata": {
        "id": "PqyP1z17Fa3Y"
      },
      "source": [
        "Checking and ploting the image on a specific index"
      ]
    },
    {
      "cell_type": "code",
      "metadata": {
        "colab": {
          "base_uri": "https://localhost:8080/",
          "height": 265
        },
        "id": "9fm9EbPrFf2V",
        "outputId": "3ab2d3dd-d978-4f09-9c3b-5352e8838f02"
      },
      "source": [
        "digit = train_images[4]\n",
        "plt.imshow(digit,cmap= plt.cm.binary)\n",
        "plt.show()"
      ],
      "execution_count": 123,
      "outputs": [
        {
          "output_type": "display_data",
          "data": {
            "image/png": "[encoded data removed]",
            "text/plain": [
              "<Figure size 432x288 with 1 Axes>"
            ]
          },
          "metadata": {
            "tags": [],
            "needs_background": "light"
          }
        }
      ]
    },
    {
      "cell_type": "code",
      "metadata": {
        "colab": {
          "base_uri": "https://localhost:8080/"
        },
        "id": "J4QcjUBDKQSj",
        "outputId": "27633267-11f4-43e2-cf9f-6ff44ffaf85a"
      },
      "source": [
        "digit.shape"
      ],
      "execution_count": 124,
      "outputs": [
        {
          "output_type": "execute_result",
          "data": {
            "text/plain": [
              "(28, 28)"
            ]
          },
          "metadata": {
            "tags": []
          },
          "execution_count": 124
        }
      ]
    },
    {
      "cell_type": "code",
      "metadata": {
        "colab": {
          "base_uri": "https://localhost:8080/"
        },
        "id": "6iOpMT8aGPY-",
        "outputId": "3bb2361e-1a9e-4c59-ae34-7e919f093895"
      },
      "source": [
        "train_labels[4]"
      ],
      "execution_count": 125,
      "outputs": [
        {
          "output_type": "execute_result",
          "data": {
            "text/plain": [
              "9"
            ]
          },
          "metadata": {
            "tags": []
          },
          "execution_count": 125
        }
      ]
    },
    {
      "cell_type": "markdown",
      "metadata": {
        "id": "PaR1rWcQA4iz"
      },
      "source": [
        "Network Architecture\n"
      ]
    },
    {
      "cell_type": "code",
      "metadata": {
        "id": "fhhgi--TA-EY"
      },
      "source": [
        "network = models.Sequential()\n",
        "network.add(layers.Dense(512, activation='relu',input_shape=(28*28,)))\n",
        "network.add(layers.Dense(10, activation='softmax'))"
      ],
      "execution_count": 126,
      "outputs": []
    },
    {
      "cell_type": "markdown",
      "metadata": {
        "id": "dTD9kED4B63c"
      },
      "source": [
        "Compiling the Data"
      ]
    },
    {
      "cell_type": "code",
      "metadata": {
        "id": "wl44nrt6BZMK"
      },
      "source": [
        "network.compile(optimizer='rmsprop', loss='categorical_crossentropy', metrics=['accuracy'])"
      ],
      "execution_count": 127,
      "outputs": []
    },
    {
      "cell_type": "markdown",
      "metadata": {
        "id": "oBnLG9DgCYWJ"
      },
      "source": [
        "Preparing the features (reshaping and normalizing)"
      ]
    },
    {
      "cell_type": "code",
      "metadata": {
        "id": "NhmA-AMDCW8I"
      },
      "source": [
        "train_images=train_images.reshape((60000,28*28))\n",
        "train_images=train_images.astype('float32')/255\n",
        "test_images=test_images.reshape((10000,28*28))\n",
        "test_images=test_images.astype('float32')/255"
      ],
      "execution_count": 128,
      "outputs": []
    },
    {
      "cell_type": "markdown",
      "metadata": {
        "id": "Q_kM0-NtDHTz"
      },
      "source": [
        "Preparing the labels"
      ]
    },
    {
      "cell_type": "code",
      "metadata": {
        "id": "uc70CGaeC2EI"
      },
      "source": [
        "from tensorflow.keras.utils import to_categorical"
      ],
      "execution_count": 129,
      "outputs": []
    },
    {
      "cell_type": "code",
      "metadata": {
        "id": "dO3zMY0jDglX"
      },
      "source": [
        "train_labels=to_categorical(train_labels) #one hot encoding\n",
        "test_labels=to_categorical(test_labels)"
      ],
      "execution_count": 130,
      "outputs": []
    },
    {
      "cell_type": "markdown",
      "metadata": {
        "id": "ezrVaM-yD8iw"
      },
      "source": [
        "Training the model"
      ]
    },
    {
      "cell_type": "code",
      "metadata": {
        "colab": {
          "base_uri": "https://localhost:8080/"
        },
        "id": "8FTFGvRHDqev",
        "outputId": "e1ada239-c5e5-443a-88d9-62caf9939181"
      },
      "source": [
        "network.fit(train_images, train_labels, epochs=5, batch_size=128)"
      ],
      "execution_count": 131,
      "outputs": [
        {
          "output_type": "stream",
          "text": [
            "Epoch 1/5\n",
            "469/469 [==============================] - 5s 10ms/step - loss: 0.2553 - accuracy: 0.9262\n",
            "Epoch 2/5\n",
            "469/469 [==============================] - 4s 9ms/step - loss: 0.1050 - accuracy: 0.9686\n",
            "Epoch 3/5\n",
            "469/469 [==============================] - 4s 9ms/step - loss: 0.0687 - accuracy: 0.9790\n",
            "Epoch 4/5\n",
            "469/469 [==============================] - 4s 9ms/step - loss: 0.0503 - accuracy: 0.9854\n",
            "Epoch 5/5\n",
            "469/469 [==============================] - 4s 9ms/step - loss: 0.0382 - accuracy: 0.9885\n"
          ],
          "name": "stdout"
        },
        {
          "output_type": "execute_result",
          "data": {
            "text/plain": [
              "<tensorflow.python.keras.callbacks.History at 0x7f23596edf10>"
            ]
          },
          "metadata": {
            "tags": []
          },
          "execution_count": 131
        }
      ]
    },
    {
      "cell_type": "markdown",
      "metadata": {
        "id": "-6jPD24qE7s7"
      },
      "source": [
        "Evaluation/Testing of our model"
      ]
    },
    {
      "cell_type": "code",
      "metadata": {
        "colab": {
          "base_uri": "https://localhost:8080/"
        },
        "id": "eIOwEkClEQdP",
        "outputId": "2f74dc54-e45b-443c-b390-c34679125301"
      },
      "source": [
        "test_loss, test_acc = network.evaluate(test_images,test_labels)"
      ],
      "execution_count": 132,
      "outputs": [
        {
          "output_type": "stream",
          "text": [
            "313/313 [==============================] - 1s 2ms/step - loss: 0.0750 - accuracy: 0.9782\n"
          ],
          "name": "stdout"
        }
      ]
    },
    {
      "cell_type": "markdown",
      "metadata": {
        "id": "58v6UHD-FZBI"
      },
      "source": [
        "Predicting with our model"
      ]
    },
    {
      "cell_type": "code",
      "metadata": {
        "colab": {
          "base_uri": "https://localhost:8080/"
        },
        "id": "JSTFc-ceFQmV",
        "outputId": "78d0ce68-ee5f-4d93-f504-12d11800f7ae"
      },
      "source": [
        "network.predict(test_images)"
      ],
      "execution_count": 133,
      "outputs": [
        {
          "output_type": "execute_result",
          "data": {
            "text/plain": [
              "array([[9.37271771e-09, 7.19386148e-11, 4.18320042e-07, ...,\n",
              "        9.99974608e-01, 1.21687522e-08, 4.11646511e-07],\n",
              "       [8.79822864e-12, 1.70424002e-07, 9.99999762e-01, ...,\n",
              "        3.30448356e-18, 8.15976620e-09, 4.34898823e-16],\n",
              "       [2.32102082e-07, 9.99272764e-01, 2.52276732e-05, ...,\n",
              "        3.42465239e-04, 2.16014843e-04, 1.10805559e-06],\n",
              "       ...,\n",
              "       [6.98232298e-14, 1.05588867e-12, 9.84485049e-14, ...,\n",
              "        1.98283857e-07, 3.42069519e-08, 7.73874092e-07],\n",
              "       [1.02635389e-09, 2.18604843e-12, 6.68239877e-13, ...,\n",
              "        1.33893896e-10, 6.64271101e-06, 1.43720001e-11],\n",
              "       [1.31277975e-10, 3.87865196e-15, 1.45341819e-08, ...,\n",
              "        3.44264556e-15, 1.01850345e-13, 8.39100274e-13]], dtype=float32)"
            ]
          },
          "metadata": {
            "tags": []
          },
          "execution_count": 133
        }
      ]
    },
    {
      "cell_type": "code",
      "metadata": {
        "id": "Ft-Wmpa_GdD9"
      },
      "source": [
        "answers = network.predict(test_images)"
      ],
      "execution_count": 134,
      "outputs": []
    },
    {
      "cell_type": "code",
      "metadata": {
        "colab": {
          "base_uri": "https://localhost:8080/"
        },
        "id": "fGwNcpgUIXKv",
        "outputId": "a5c5f741-f739-4967-da52-a735480f2bf3"
      },
      "source": [
        "digit = test_images[4]\n",
        "digit.shape"
      ],
      "execution_count": 142,
      "outputs": [
        {
          "output_type": "execute_result",
          "data": {
            "text/plain": [
              "(784,)"
            ]
          },
          "metadata": {
            "tags": []
          },
          "execution_count": 142
        }
      ]
    },
    {
      "cell_type": "code",
      "metadata": {
        "id": "b1BJEfd3Ka66"
      },
      "source": [
        "digit= digit.reshape(28,28)"
      ],
      "execution_count": 146,
      "outputs": []
    },
    {
      "cell_type": "code",
      "metadata": {
        "colab": {
          "base_uri": "https://localhost:8080/"
        },
        "id": "Zg4nWUcgKvKr",
        "outputId": "7f715767-1e76-4f9d-e4d3-df404df8c86c"
      },
      "source": [
        "digit.shape"
      ],
      "execution_count": 147,
      "outputs": [
        {
          "output_type": "execute_result",
          "data": {
            "text/plain": [
              "(28, 28)"
            ]
          },
          "metadata": {
            "tags": []
          },
          "execution_count": 147
        }
      ]
    },
    {
      "cell_type": "code",
      "metadata": {
        "colab": {
          "base_uri": "https://localhost:8080/",
          "height": 265
        },
        "id": "_FTBKWiNHRO-",
        "outputId": "97e72866-ea3d-40a3-a8eb-26fb857c578d"
      },
      "source": [
        "plt.imshow(digit, cmap= plt.cm.binary)\n",
        "plt.show()"
      ],
      "execution_count": 149,
      "outputs": [
        {
          "output_type": "display_data",
          "data": {
            "image/png": "[encoded data removed]",
            "text/plain": [
              "<Figure size 432x288 with 1 Axes>"
            ]
          },
          "metadata": {
            "tags": [],
            "needs_background": "light"
          }
        }
      ]
    },
    {
      "cell_type": "code",
      "metadata": {
        "colab": {
          "base_uri": "https://localhost:8080/"
        },
        "id": "IZwCX_jlGxA2",
        "outputId": "92db5f12-f8f0-4fad-e5da-562314b83aa5"
      },
      "source": [
        "len(answers)"
      ],
      "execution_count": 166,
      "outputs": [
        {
          "output_type": "execute_result",
          "data": {
            "text/plain": [
              "10000"
            ]
          },
          "metadata": {
            "tags": []
          },
          "execution_count": 166
        }
      ]
    },
    {
      "cell_type": "code",
      "metadata": {
        "colab": {
          "base_uri": "https://localhost:8080/"
        },
        "id": "EzO3hMPML6iZ",
        "outputId": "4246b99a-4ba2-42bf-8bd6-ad5b925e6938"
      },
      "source": [
        "answers.shape"
      ],
      "execution_count": 167,
      "outputs": [
        {
          "output_type": "execute_result",
          "data": {
            "text/plain": [
              "(10000, 10)"
            ]
          },
          "metadata": {
            "tags": []
          },
          "execution_count": 167
        }
      ]
    },
    {
      "cell_type": "code",
      "metadata": {
        "colab": {
          "base_uri": "https://localhost:8080/"
        },
        "id": "xZfHLP5KLcPi",
        "outputId": "6b4cb183-d0b4-47d8-eeeb-398972346cb4"
      },
      "source": [
        "answers[0]"
      ],
      "execution_count": 165,
      "outputs": [
        {
          "output_type": "execute_result",
          "data": {
            "text/plain": [
              "array([9.3727177e-09, 7.1938615e-11, 4.1832004e-07, 2.4393787e-05,\n",
              "       4.3437398e-12, 2.3414270e-08, 5.7423932e-16, 9.9997461e-01,\n",
              "       1.2168752e-08, 4.1164651e-07], dtype=float32)"
            ]
          },
          "metadata": {
            "tags": []
          },
          "execution_count": 165
        }
      ]
    },
    {
      "cell_type": "code",
      "metadata": {
        "colab": {
          "base_uri": "https://localhost:8080/",
          "height": 214
        },
        "id": "8tCi5yJJG2VV",
        "outputId": "91891d3e-b92c-45c2-b610-e27471d4cb5a"
      },
      "source": [
        "for i in range(len(answers)):\n",
        "  reshaped_image=answers[i].reshape(28,28)\n",
        "  plt.imshow(reshaped_image,cmap= plt.cm.binary)\n",
        "  plt.show()"
      ],
      "execution_count": 153,
      "outputs": [
        {
          "output_type": "error",
          "ename": "ValueError",
          "evalue": "ignored",
          "traceback": [
            "\u001b[0;31m---------------------------------------------------------------------------\u001b[0m",
            "\u001b[0;31mValueError\u001b[0m                                Traceback (most recent call last)",
            "\u001b[0;32m<ipython-input-153-7c791a477b14>\u001b[0m in \u001b[0;36m<module>\u001b[0;34m()\u001b[0m\n\u001b[1;32m      1\u001b[0m \u001b[0;32mfor\u001b[0m \u001b[0mi\u001b[0m \u001b[0;32min\u001b[0m \u001b[0mrange\u001b[0m\u001b[0;34m(\u001b[0m\u001b[0mlen\u001b[0m\u001b[0;34m(\u001b[0m\u001b[0manswers\u001b[0m\u001b[0;34m)\u001b[0m\u001b[0;34m)\u001b[0m\u001b[0;34m:\u001b[0m\u001b[0;34m\u001b[0m\u001b[0;34m\u001b[0m\u001b[0m\n\u001b[0;32m----> 2\u001b[0;31m   \u001b[0mreshaped_image\u001b[0m\u001b[0;34m=\u001b[0m\u001b[0manswers\u001b[0m\u001b[0;34m[\u001b[0m\u001b[0mi\u001b[0m\u001b[0;34m]\u001b[0m\u001b[0;34m.\u001b[0m\u001b[0mreshape\u001b[0m\u001b[0;34m(\u001b[0m\u001b[0;36m28\u001b[0m\u001b[0;34m,\u001b[0m\u001b[0;36m28\u001b[0m\u001b[0;34m)\u001b[0m\u001b[0;34m\u001b[0m\u001b[0;34m\u001b[0m\u001b[0m\n\u001b[0m\u001b[1;32m      3\u001b[0m   \u001b[0mplt\u001b[0m\u001b[0;34m.\u001b[0m\u001b[0mimshow\u001b[0m\u001b[0;34m(\u001b[0m\u001b[0mreshaped_image\u001b[0m\u001b[0;34m,\u001b[0m\u001b[0mcmap\u001b[0m\u001b[0;34m=\u001b[0m \u001b[0mplt\u001b[0m\u001b[0;34m.\u001b[0m\u001b[0mcm\u001b[0m\u001b[0;34m.\u001b[0m\u001b[0mbinary\u001b[0m\u001b[0;34m)\u001b[0m\u001b[0;34m\u001b[0m\u001b[0;34m\u001b[0m\u001b[0m\n\u001b[1;32m      4\u001b[0m   \u001b[0mplt\u001b[0m\u001b[0;34m.\u001b[0m\u001b[0mshow\u001b[0m\u001b[0;34m(\u001b[0m\u001b[0;34m)\u001b[0m\u001b[0;34m\u001b[0m\u001b[0;34m\u001b[0m\u001b[0m\n",
            "\u001b[0;31mValueError\u001b[0m: cannot reshape array of size 10 into shape (28,28)"
          ]
        }
      ]
    },
    {
      "cell_type": "code",
      "metadata": {
        "id": "7NkXRZzgG7m9"
      },
      "source": [
        ""
      ],
      "execution_count": null,
      "outputs": []
    }
  ]
}