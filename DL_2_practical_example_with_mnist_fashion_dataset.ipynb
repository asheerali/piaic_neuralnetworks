{
  "nbformat": 4,
  "nbformat_minor": 0,
  "metadata": {
    "colab": {
      "name": "DL_2_practical_example_with_mnist_fashion_dataset.ipynb",
      "provenance": [],
      "authorship_tag": "ABX9TyOK7UvOoCe7ZDoxLnsm9nAA",
      "include_colab_link": true
    },
    "kernelspec": {
      "name": "python3",
      "display_name": "Python 3"
    },
    "language_info": {
      "name": "python"
    }
  },
  "cells": [
    {
      "cell_type": "markdown",
      "metadata": {
        "id": "view-in-github",
        "colab_type": "text"
      },
      "source": [
        "<a href=\"https://colab.research.google.com/github/asheerali/piaic_neuralnetworks/blob/main/DL_2_practical_example_with_mnist_fashion_dataset.ipynb\" target=\"_parent\"><img src=\"https://colab.research.google.com/assets/colab-badge.svg\" alt=\"Open In Colab\"/></a>"
      ]
    },
    {
      "cell_type": "markdown",
      "metadata": {
        "id": "ZECcH_K8aKbU"
      },
      "source": [
        "LABELS -> numbers\n",
        "0: T-shirt/top\n",
        "\n",
        "1: Trouser\n",
        "\n",
        "2: Pullover\n",
        "\n",
        "3: Dress\n",
        "\n",
        "4: Coat\n",
        "\n",
        "5: Sandal\n",
        "\n",
        "6: Shirt\n",
        "\n",
        "7: Sneaker\n",
        "\n",
        "8: Bag\n",
        "\n",
        "9: Ankle boot\n"
      ]
    },
    {
      "cell_type": "code",
      "metadata": {
        "colab": {
          "base_uri": "https://localhost:8080/"
        },
        "id": "1FyNjPSXEZ8x",
        "outputId": "f8079390-b0c5-4840-8d8f-7fe24544c15c"
      },
      "source": [
        "import tensorflow as tf\n",
        "mnist_fashion = tf.keras.datasets.fashion_mnist\n",
        "# load dataset\n",
        "(train_images,train_labels), (test_images,test_labels) = mnist_fashion.load_data()\n",
        "# normalize \n",
        "train_images= train_images/255\n",
        "test_images= test_images/255\n",
        "# defining layers\n",
        "model = tf.keras.models.Sequential([tf.keras.layers.Flatten(),\n",
        "                                    tf.keras.layers.Dense(512,activation=tf.nn.relu),\n",
        "                                    tf.keras.layers.Dense(10,activation=tf.nn.softmax)\n",
        "])\n",
        "# compile\n",
        "model.compile(optimizer = tf.keras.optimizers.Adam(),\n",
        "              loss = 'sparse_categorical_crossentropy',\n",
        "              metrics= ['accuracy'])\n",
        "# training model\n",
        "model.fit(train_images,train_labels,epochs= 5,batch_size=128)\n",
        "print('/nmodel evaluation/n')\n",
        "model.evaluate(test_images,test_labels)"
      ],
      "execution_count": 1,
      "outputs": [
        {
          "output_type": "stream",
          "text": [
            "Downloading data from https://storage.googleapis.com/tensorflow/tf-keras-datasets/train-labels-idx1-ubyte.gz\n",
            "32768/29515 [=================================] - 0s 0us/step\n",
            "Downloading data from https://storage.googleapis.com/tensorflow/tf-keras-datasets/train-images-idx3-ubyte.gz\n",
            "26427392/26421880 [==============================] - 1s 0us/step\n",
            "Downloading data from https://storage.googleapis.com/tensorflow/tf-keras-datasets/t10k-labels-idx1-ubyte.gz\n",
            "8192/5148 [===============================================] - 0s 0us/step\n",
            "Downloading data from https://storage.googleapis.com/tensorflow/tf-keras-datasets/t10k-images-idx3-ubyte.gz\n",
            "4423680/4422102 [==============================] - 0s 0us/step\n",
            "Epoch 1/5\n",
            "469/469 [==============================] - 4s 8ms/step - loss: 0.5032 - accuracy: 0.8247\n",
            "Epoch 2/5\n",
            "469/469 [==============================] - 4s 8ms/step - loss: 0.3707 - accuracy: 0.8671\n",
            "Epoch 3/5\n",
            "469/469 [==============================] - 4s 8ms/step - loss: 0.3349 - accuracy: 0.8790\n",
            "Epoch 4/5\n",
            "469/469 [==============================] - 4s 8ms/step - loss: 0.3045 - accuracy: 0.8888\n",
            "Epoch 5/5\n",
            "469/469 [==============================] - 4s 8ms/step - loss: 0.2864 - accuracy: 0.8952\n",
            "/nmodel evaluation/n\n",
            "313/313 [==============================] - 1s 2ms/step - loss: 0.3820 - accuracy: 0.8560\n"
          ],
          "name": "stdout"
        },
        {
          "output_type": "execute_result",
          "data": {
            "text/plain": [
              "[0.3819897472858429, 0.8560000061988831]"
            ]
          },
          "metadata": {
            "tags": []
          },
          "execution_count": 1
        }
      ]
    },
    {
      "cell_type": "code",
      "metadata": {
        "id": "TnyGdQZEH-I0"
      },
      "source": [
        ""
      ],
      "execution_count": null,
      "outputs": []
    },
    {
      "cell_type": "code",
      "metadata": {
        "colab": {
          "base_uri": "https://localhost:8080/"
        },
        "id": "umQeDiWYE5zu",
        "outputId": "7403c403-f6f1-463b-fa32-6c40e0ddf267"
      },
      "source": [
        "train_images.shape"
      ],
      "execution_count": 2,
      "outputs": [
        {
          "output_type": "execute_result",
          "data": {
            "text/plain": [
              "(60000, 28, 28)"
            ]
          },
          "metadata": {
            "tags": []
          },
          "execution_count": 2
        }
      ]
    },
    {
      "cell_type": "code",
      "metadata": {
        "colab": {
          "base_uri": "https://localhost:8080/"
        },
        "id": "Y8GU88SSE_0A",
        "outputId": "1fdd262d-4732-46bc-d8f7-fe1428ee5119"
      },
      "source": [
        "test_images.shape"
      ],
      "execution_count": 3,
      "outputs": [
        {
          "output_type": "execute_result",
          "data": {
            "text/plain": [
              "(10000, 28, 28)"
            ]
          },
          "metadata": {
            "tags": []
          },
          "execution_count": 3
        }
      ]
    },
    {
      "cell_type": "code",
      "metadata": {
        "id": "0g_ZLwlfFQK3"
      },
      "source": [
        ""
      ],
      "execution_count": null,
      "outputs": []
    }
  ]
}